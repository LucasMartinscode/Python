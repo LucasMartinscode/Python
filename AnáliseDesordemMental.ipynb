{
  "nbformat": 4,
  "nbformat_minor": 0,
  "metadata": {
    "colab": {
      "provenance": [],
      "authorship_tag": "ABX9TyPBSApmv7F1r+iwkMdMJ/jT",
      "include_colab_link": true
    },
    "kernelspec": {
      "name": "python3",
      "display_name": "Python 3"
    },
    "language_info": {
      "name": "python"
    }
  },
  "cells": [
    {
      "cell_type": "markdown",
      "metadata": {
        "id": "view-in-github",
        "colab_type": "text"
      },
      "source": [
        "<a href=\"https://colab.research.google.com/github/LucasMartinscode/Python/blob/main/An%C3%A1liseDesordemMental.ipynb\" target=\"_parent\"><img src=\"https://colab.research.google.com/assets/colab-badge.svg\" alt=\"Open In Colab\"/></a>"
      ]
    },
    {
      "cell_type": "markdown",
      "source": [
        "**Objetivo**\n",
        "\n",
        "\n",
        "---\n",
        "\n",
        "Análisar a saúde mental na industria de tecnologia utilizando conceitos de estatística aplicada, entender o desempenho de cada país e evolução dos mesmos."
      ],
      "metadata": {
        "id": "Js821sVhdFxT"
      }
    },
    {
      "cell_type": "markdown",
      "source": [
        "**Métodos usados**\n",
        "\n",
        "\n",
        "\n",
        "*   Funções no python\n",
        "*   Implementação de banco de dados\n",
        "*   Estatística descritiva\n",
        "*   Queries de SQL\n",
        "*   Visualização de dados\n",
        "\n"
      ],
      "metadata": {
        "id": "OrkCC4Cyd50i"
      }
    },
    {
      "cell_type": "markdown",
      "source": [
        "**Stack**\n",
        "\n",
        "\n",
        "\n",
        "*   Pandas\n",
        "*   Jupyter notebook\n",
        "*   MySQL connector\n",
        "*   SQLite\n",
        "*   NumPy\n",
        "*   Matplotlib\n",
        "*   Seaborn\n",
        "*   Plotly\n",
        "\n",
        "\n",
        "\n",
        "\n",
        "\n",
        "\n"
      ],
      "metadata": {
        "id": "il4ZPx5te9Fs"
      }
    },
    {
      "cell_type": "markdown",
      "source": [
        "**Data Sources**\n",
        "\n",
        "\n",
        "\n",
        "*   Banco de dados SQL encontrado no Kaggle\n",
        "\n"
      ],
      "metadata": {
        "id": "_yojoKUqMdPM"
      }
    },
    {
      "cell_type": "code",
      "execution_count": null,
      "metadata": {
        "id": "5T8d9CmPctS4"
      },
      "outputs": [],
      "source": [
        "import sqlite3\n",
        "import pandas as pd\n",
        "import matplotlib.pyplot as plt\n",
        "import numpy as np\n",
        "import seaborn as sns"
      ]
    },
    {
      "cell_type": "markdown",
      "source": [
        "Criando uma função e estabelecendo uma conexão com o banco de dados, para manioulação e análise de dados.\n"
      ],
      "metadata": {
        "id": "CTqeMq-5MqDw"
      }
    },
    {
      "cell_type": "code",
      "source": [
        "con = sqlite3.connect('mental_health.sqlite') # Conectando-se com o banco de dados."
      ],
      "metadata": {
        "id": "vBGO08BYMxmE"
      },
      "execution_count": null,
      "outputs": []
    },
    {
      "cell_type": "code",
      "source": [
        "cursor = con.cursor()                                                        # Descobrindo o nome das tabelas para visualização e tratamento de dados.\n",
        "cursor.execute(\"SELECT name FROM sqlite_master WHERE type = 'table'\")\n",
        "tabelas = cursor.fetchall()\n",
        "\n",
        "for tabela in tabelas:\n",
        "     print(tabela[0])\n",
        "\n",
        "con.close()\n",
        "\n"
      ],
      "metadata": {
        "colab": {
          "base_uri": "https://localhost:8080/"
        },
        "id": "t0eIToEOOiL6",
        "outputId": "2ebc694a-bdf5-4bec-8b18-c6f82411fe95"
      },
      "execution_count": null,
      "outputs": [
        {
          "output_type": "stream",
          "name": "stdout",
          "text": [
            "Answer\n",
            "Question\n",
            "Survey\n"
          ]
        }
      ]
    },
    {
      "cell_type": "code",
      "source": [
        "con = sqlite3.connect('mental_health.sqlite') # Conectando-se ao banco de dados\n",
        "\n",
        "tabelas = ['Answer', 'Question', 'Survey']  # Criando um dicinário para as tabelas presentes no arquivo\n",
        "\n",
        "for tabela in tabelas:                      #Criando um loop para as tabelas \n",
        "    print(f\"Conteúdo da tabela '{tabela}':\")\n",
        "    print(\"-\" * 30)\n",
        "\n",
        "    query = f\"SELECT * FROM {tabela}\"\n",
        "    df = pd.read_sql_query(query, con)\n",
        "\n",
        "   \n",
        "    print(df)\n",
        "    \n",
        "    print(\"\\n\")\n",
        "\n",
        "\n",
        "con.close()"
      ],
      "metadata": {
        "colab": {
          "base_uri": "https://localhost:8080/"
        },
        "id": "Bs2kwM0qSI1t",
        "outputId": "74fc7189-4fdf-4517-91f7-6b3fd4579a56"
      },
      "execution_count": null,
      "outputs": [
        {
          "output_type": "stream",
          "name": "stdout",
          "text": [
            "Conteúdo da tabela 'Answer':\n",
            "------------------------------\n",
            "                AnswerText  SurveyID  UserID  QuestionID\n",
            "0                       37      2014       1           1\n",
            "1                       44      2014       2           1\n",
            "2                       32      2014       3           1\n",
            "3                       31      2014       4           1\n",
            "4                       31      2014       5           1\n",
            "...                    ...       ...     ...         ...\n",
            "236893               Other      2016    2689         117\n",
            "236894             Support      2016    2690         117\n",
            "236895  Back-end Developer      2016    2691         117\n",
            "236896     DevOps/SysAdmin      2016    2692         117\n",
            "236897               Other      2016    2693         117\n",
            "\n",
            "[236898 rows x 4 columns]\n",
            "\n",
            "\n",
            "Conteúdo da tabela 'Question':\n",
            "------------------------------\n",
            "                                          questiontext  questionid\n",
            "0                                    What is your age?           1\n",
            "1                                 What is your gender?           2\n",
            "2                         What country do you live in?           3\n",
            "3    If you live in the United States, which state ...           4\n",
            "4                               Are you self-employed?           5\n",
            "..                                                 ...         ...\n",
            "100  Do you think that team members/co-workers woul...         114\n",
            "101  If yes, what condition(s) have you been diagno...         115\n",
            "102  If maybe, what condition(s) do you believe you...         116\n",
            "103  Which of the following best describes your wor...         117\n",
            "104                              Do you work remotely?         118\n",
            "\n",
            "[105 rows x 2 columns]\n",
            "\n",
            "\n",
            "Conteúdo da tabela 'Survey':\n",
            "------------------------------\n",
            "   SurveyID                    Description\n",
            "0      2014  mental health survey for 2014\n",
            "1      2016  mental health survey for 2016\n",
            "2      2017  mental health survey for 2017\n",
            "3      2018  mental health survey for 2018\n",
            "4      2019  mental health survey for 2019\n",
            "\n",
            "\n"
          ]
        }
      ]
    },
    {
      "cell_type": "markdown",
      "source": [
        "Agora que encontrei o conteúdo de cada tabela, irei filtrar por perguntas, ou seja, escolher perguntas aderentes para a análise de dados e depois com o comando inner join, irei juntas os IDS do question id para análise do usuario. "
      ],
      "metadata": {
        "id": "URc3DnT8cgcL"
      }
    },
    {
      "cell_type": "code",
      "source": [
        "pd.set_option('display.max_rows', None) #Configurando para imprimir todas as linhas. \n",
        "\n",
        "con = sqlite3.connect('mental_health.sqlite') # Conectando-se ao banco de dados\n",
        "\n",
        "tabelas = ['Question']  # Criando um dicinário para a tabela question apenas\n",
        "\n",
        "for tabela in tabelas:                      #Criando um loop para a tabela\n",
        "    print(f\"Conteúdo da tabela '{tabela}':\")\n",
        "    print(\"-\" * 30)\n",
        "\n",
        "    query = f\"SELECT * FROM {tabela}\"\n",
        "    df = pd.read_sql_query(query, con)\n",
        "\n",
        "print(df)\n",
        "\n",
        "\n",
        "con.close()"
      ],
      "metadata": {
        "colab": {
          "base_uri": "https://localhost:8080/"
        },
        "id": "XVJpyH9rdvXn",
        "outputId": "4bfb7679-5e8e-4f0f-b3aa-cac01efa4d8c"
      },
      "execution_count": null,
      "outputs": [
        {
          "output_type": "stream",
          "name": "stdout",
          "text": [
            "Conteúdo da tabela 'Question':\n",
            "------------------------------\n",
            "                                          questiontext  questionid\n",
            "0                                    What is your age?           1\n",
            "1                                 What is your gender?           2\n",
            "2                         What country do you live in?           3\n",
            "3    If you live in the United States, which state ...           4\n",
            "4                               Are you self-employed?           5\n",
            "5      Do you have a family history of mental illness?           6\n",
            "6    Have you ever sought treatment for a mental he...           7\n",
            "7    How many employees does your company or organi...           8\n",
            "8    Is your employer primarily a tech company/orga...           9\n",
            "9    Does your employer provide mental health benef...          10\n",
            "10   Is your anonymity protected if you choose to t...          11\n",
            "11   Would you bring up a mental health issue with ...          12\n",
            "12   Is your primary role within your company relat...          13\n",
            "13   Do you know the options for mental health care...          14\n",
            "14   Has your employer ever formally discussed ment...          15\n",
            "15   Does your employer offer resources to learn mo...          16\n",
            "16   If a mental health issue prompted you to reque...          17\n",
            "17   Would you feel comfortable discussing a mental...          18\n",
            "18   Would you feel comfortable discussing a mental...          19\n",
            "19   Do you have medical coverage (private insuranc...          20\n",
            "20   Do you know local or online resources to seek ...          21\n",
            "21                     Do you have previous employers?          22\n",
            "22   Have your previous employers provided mental h...          23\n",
            "23   Were you aware of the options for mental healt...          24\n",
            "24   Did your previous employers ever formally disc...          25\n",
            "25   Did your previous employers provide resources ...          26\n",
            "26   Was your anonymity protected if you chose to t...          27\n",
            "27   Would you have been willing to discuss your me...          28\n",
            "28   Would you be willing to bring up a physical he...          29\n",
            "29   How willing would you be to share with friends...          30\n",
            "30   Have your observations of how another individu...          31\n",
            "31   Have you had a mental health disorder in the p...          32\n",
            "32     Do you currently have a mental health disorder?          33\n",
            "33   Have you ever been diagnosed with a mental hea...          34\n",
            "34   If you have a mental health disorder, how ofte...          48\n",
            "35   If you have a mental health disorder, how ofte...          49\n",
            "36                        What country do you work in?          50\n",
            "37          What US state or territory do you work in?          51\n",
            "38   If you have been diagnosed or treated for a me...          52\n",
            "39   If you have been diagnosed or treated for a me...          53\n",
            "40   Do you believe your productivity is ever affec...          54\n",
            "41   If yes, what percentage of your work time (tim...          55\n",
            "42   Have you observed or experienced an unsupporti...          56\n",
            "43   Would you feel more comfortable talking to you...          57\n",
            "44   Have you ever discussed your mental health wit...          58\n",
            "45   Describe the conversation you had with your em...          59\n",
            "46   Have you ever discussed your mental health wit...          60\n",
            "47   Describe the conversation with coworkers you h...          61\n",
            "48   Have you ever had a coworker discuss their or ...          62\n",
            "49   Describe the conversation your coworker had wi...          63\n",
            "50   Overall, how much importance does your employe...          64\n",
            "51   Overall, how much importance does your employe...          65\n",
            "52   If you have revealed a mental health disorder ...          66\n",
            "53   If you have revealed a mental health disorder ...          67\n",
            "54   Was your employer primarily a tech company/org...          68\n",
            "55   Would you have felt more comfortable talking t...          69\n",
            "56   Did you ever discuss your mental health with y...          70\n",
            "57   Describe the conversation you had with your pr...          71\n",
            "58   Did you ever discuss your mental health with a...          72\n",
            "59   Describe the conversation you had with your pr...          73\n",
            "60   Did you ever have a previous coworker discuss ...          74\n",
            "61   Describe the conversation your coworker had wi...          75\n",
            "62   Overall, how much importance did your previous...          76\n",
            "63   Overall, how much importance did your previous...          77\n",
            "64   Are you openly identified at work as a person ...          78\n",
            "65   Has being identified as a person with a mental...          79\n",
            "66                    How has it affected your career?          80\n",
            "67   If they knew you suffered from a mental health...          81\n",
            "68   Describe the circumstances of the badly handle...          82\n",
            "69   Have you observed or experienced supportive or...          83\n",
            "70   Describe the circumstances of the supportive o...          84\n",
            "71   Overall, how well do you think the tech indust...          85\n",
            "72   Briefly describe what you think the industry a...          86\n",
            "73   If there is anything else you would like to te...          87\n",
            "74   Would you be willing to talk to one of us more...          88\n",
            "75                                  What is your race?          89\n",
            "76   Do you think that discussing a physical health...          90\n",
            "77   Do you feel that your employer takes mental he...          91\n",
            "78   If you have a mental health condition, do you ...          92\n",
            "79   Do you work remotely (outside of an office) at...          93\n",
            "80   Do you know the options for mental health care...          94\n",
            "81   Has your employer ever discussed mental health...          95\n",
            "82   Does your employer provide resources to learn ...          96\n",
            "83   How easy is it for you to take medical leave f...          97\n",
            "84   Do you think that discussing a mental health i...          98\n",
            "85   Would you be willing to discuss a mental healt...          99\n",
            "86   Would you be willing to discuss a mental healt...         100\n",
            "87   Would you bring up a physical health issue wit...         101\n",
            "88   Have you heard of or observed negative consequ...         102\n",
            "89                    Any additional notes or comments         103\n",
            "90   Do you think that discussing a mental health d...         104\n",
            "91   Have you heard of or observed negative consequ...         105\n",
            "92   If you have revealed a mental health issue to ...         106\n",
            "93   If you have revealed a mental health issue to ...         107\n",
            "94   Do you think that discussing a mental health d...         108\n",
            "95   Do you think that discussing a physical health...         109\n",
            "96   Would you have been willing to discuss a menta...         110\n",
            "97   Did you feel that your previous employers took...         111\n",
            "98   Did you hear of or observe negative consequenc...         112\n",
            "99   Do you feel that being identified as a person ...         113\n",
            "100  Do you think that team members/co-workers woul...         114\n",
            "101  If yes, what condition(s) have you been diagno...         115\n",
            "102  If maybe, what condition(s) do you believe you...         116\n",
            "103  Which of the following best describes your wor...         117\n",
            "104                              Do you work remotely?         118\n"
          ]
        }
      ]
    },
    {
      "cell_type": "markdown",
      "source": [
        "Pela quantidade de perguntas, escolhi fazer análises com base na idade, gênero, benefícios, raça, transtorno e se trabalham de home office"
      ],
      "metadata": {
        "id": "h8oozShYe1CT"
      }
    },
    {
      "cell_type": "code",
      "source": [
        "con = sqlite3.connect('mental_health.sqlite') # Conectando-se à base de dados\n",
        "# Criando uma consulta no sql para exibir os dados que preciso para fazer a análise sinalizada acima usando o comando inner join para unir as ids das perguntas com as resp.\n",
        "#das quais criei ou seja (idade: questionID 1 / gênero: questionID 2 / benefícios de trabalho: questionID 10 / gênero: question ID: 89 / raça: question ID: 33 e por fim home office: question ID 118\n",
        "query = ''' \n",
        "    SELECT\n",
        "        q.questiontext AS Pergunta,\n",
        "        a.AnswerText AS Resposta,\n",
        "        a.SurveyID\n",
        "    FROM\n",
        "        Answer AS a\n",
        "        INNER JOIN Question AS q ON a.questionid = q.questionid\n",
        "    WHERE\n",
        "        a.questionid IN (1, 2, 10, 89, 33, 118)\n",
        "'''\n",
        "\n",
        "df = pd.read_sql_query(query, con) # Lendo os dados da consulta em um DataFrame\n",
        "\n",
        "con.close()\n",
        "\n",
        "print(df.head(10)) #Imprimindo as 10 primeiras linhas para verificar se esta tudo correto com as queries. "
      ],
      "metadata": {
        "colab": {
          "base_uri": "https://localhost:8080/"
        },
        "id": "TUFSo9yYhNR1",
        "outputId": "61d73150-8b17-46a3-808e-b93ae52dce05"
      },
      "execution_count": null,
      "outputs": [
        {
          "output_type": "stream",
          "name": "stdout",
          "text": [
            "            Pergunta Resposta  SurveyID\n",
            "0  What is your age?       37      2014\n",
            "1  What is your age?       44      2014\n",
            "2  What is your age?       32      2014\n",
            "3  What is your age?       31      2014\n",
            "4  What is your age?       31      2014\n",
            "5  What is your age?       33      2014\n",
            "6  What is your age?       35      2014\n",
            "7  What is your age?       39      2014\n",
            "8  What is your age?       42      2014\n",
            "9  What is your age?       23      2014\n"
          ]
        }
      ]
    },
    {
      "cell_type": "markdown",
      "source": [
        "No DataFrame, possui algumas perguntas que estão sem respostas no formato \"-1\", irei remover todas respostas nesse formato, para deixar a tabela mais limpa. "
      ],
      "metadata": {
        "id": "IyX6YSNNsClo"
      }
    },
    {
      "cell_type": "code",
      "source": [
        "df = df[df['Resposta'] != '-1'] # Removendo todas linhas que possui -1\n",
        "\n",
        "print(df.head(10))"
      ],
      "metadata": {
        "colab": {
          "base_uri": "https://localhost:8080/"
        },
        "id": "ZHk3L1g9t4aV",
        "outputId": "e38dfb16-549d-4439-e840-f06bed00f43a"
      },
      "execution_count": null,
      "outputs": [
        {
          "output_type": "stream",
          "name": "stdout",
          "text": [
            "            Pergunta Resposta  SurveyID\n",
            "0  What is your age?       37      2014\n",
            "1  What is your age?       44      2014\n",
            "2  What is your age?       32      2014\n",
            "3  What is your age?       31      2014\n",
            "4  What is your age?       31      2014\n",
            "5  What is your age?       33      2014\n",
            "6  What is your age?       35      2014\n",
            "7  What is your age?       39      2014\n",
            "8  What is your age?       42      2014\n",
            "9  What is your age?       23      2014\n"
          ]
        }
      ]
    },
    {
      "cell_type": "code",
      "source": [
        "perguntas_unicas = df['Pergunta'].unique() #Obtendo as 5 perguntas diferentes presentes na coluna \"Pergunta\"\n",
        "\n",
        "for pergunta in perguntas_unicas: #Exibindo as perguntas únicas\n",
        "    print(pergunta)"
      ],
      "metadata": {
        "colab": {
          "base_uri": "https://localhost:8080/"
        },
        "id": "g-6Pcgsou5h-",
        "outputId": "52d10a66-8e1b-452e-e998-dc4daf0c57d3"
      },
      "execution_count": null,
      "outputs": [
        {
          "output_type": "stream",
          "name": "stdout",
          "text": [
            "What is your age?\n",
            "What is your gender?\n",
            "Does your employer provide mental health benefits as part of healthcare coverage?\n",
            "Do you currently have a mental health disorder?\n",
            "Do you work remotely?\n",
            "What is your race?\n"
          ]
        }
      ]
    },
    {
      "cell_type": "markdown",
      "source": [
        "Agora que organizei tudo, irei descobrir quais formatos existem nas respostas para começar a extrair informações."
      ],
      "metadata": {
        "id": "_5rm3xxyvD3Q"
      }
    },
    {
      "cell_type": "code",
      "source": [
        "# Descobrindo os formatos da pergunta \"What is your gender?\"\n",
        "formatos_genero = df.loc[df['Pergunta'] == 'What is your gender?', 'Resposta'].unique()\n",
        "print(\"Formatos da pergunta 'What is your gender?':\")\n",
        "for formato in formatos_genero:\n",
        "    print(formato)\n",
        "print()\n",
        "\n",
        "# Descobrindo os formatos da pergunta \"Does your employer provide mental health benefits as part of healthcare coverage?\"\n",
        "formatos_beneficios = df.loc[df['Pergunta'] == 'Does your employer provide mental health benefits as part of healthcare coverage?', 'Resposta'].unique()\n",
        "print(\"Formatos da pergunta 'Does your employer provide mental health benefits as part of healthcare coverage?':\")\n",
        "for formato in formatos_beneficios:\n",
        "    print(formato)\n",
        "print()\n",
        "\n",
        "# Descobrindo os formatos da pergunta \"Do you currently have a mental health disorder?\"\n",
        "formatos_transtorno = df.loc[df['Pergunta'] == 'Do you currently have a mental health disorder?', 'Resposta'].unique()\n",
        "print(\"Formatos da pergunta 'Do you currently have a mental health disorder?':\")\n",
        "for formato in formatos_transtorno:\n",
        "    print(formato)\n",
        "print()\n",
        "\n",
        "# Descobrindo os formatos da pergunta \"Do you work remotely?\"\n",
        "formatos_homeoffice = df.loc[df['Pergunta'] == 'Do you work remotely?', 'Resposta'].unique()\n",
        "print(\"Formatos da pergunta 'Do you work remotely?':\")\n",
        "for formato in formatos_homeoffice:\n",
        "    print(formato)\n",
        "print()\n",
        "\n",
        "# Descobrindo os formatos da pergunta \"What is your race?\"\n",
        "formatos_raca = df.loc[df['Pergunta'] == 'What is your race?', 'Resposta'].unique()\n",
        "print(\"Formatos da pergunta 'What is your race?':\")\n",
        "for formato in formatos_raca:\n",
        "    print(formato)"
      ],
      "metadata": {
        "colab": {
          "base_uri": "https://localhost:8080/"
        },
        "id": "GthLcjHWviNx",
        "outputId": "496e064c-55b8-4b38-b569-24ecd6204a96"
      },
      "execution_count": null,
      "outputs": [
        {
          "output_type": "stream",
          "name": "stdout",
          "text": [
            "Formatos da pergunta 'What is your gender?':\n",
            "Female\n",
            "Male\n",
            "Male-ish\n",
            "Trans-female\n",
            "something kinda male?\n",
            "queer/she/they\n",
            "non-binary\n",
            "Nah\n",
            "All\n",
            "Enby\n",
            "fluid\n",
            "Genderqueer\n",
            "Androgyne\n",
            "Agender\n",
            "Guy (-ish) ^_^\n",
            "male leaning androgynous\n",
            "Trans woman\n",
            "Neuter\n",
            "Female (trans)\n",
            "queer\n",
            "A little about you\n",
            "p\n",
            "ostensibly male, unsure what that really means\n",
            "Bigender\n",
            "Female assigned at birth\n",
            "fm\n",
            "Transitioned, M2F\n",
            "Genderfluid (born female)\n",
            "Other/Transfeminine\n",
            "Female or Multi-Gender Femme\n",
            "Androgynous\n",
            "male 9:1 female, roughly\n",
            "Other\n",
            "nb masculine\n",
            "none of your business\n",
            "genderqueer\n",
            "Human\n",
            "Genderfluid\n",
            "genderqueer woman\n",
            "mtf\n",
            "Queer\n",
            "Fluid\n",
            "Male/genderqueer\n",
            "Nonbinary\n",
            "human\n",
            "Unicorn\n",
            "Male (trans, FtM)\n",
            "Genderflux demi-girl\n",
            "female-bodied; no feelings about gender\n",
            "AFAB\n",
            "Transgender woman\n",
            "male\n",
            "female\n",
            "male/androgynous\n",
            "uhhhhhhhhh fem genderqueer?\n",
            "God King of the Valajar\n",
            "Non-binary\n",
            "Agender/genderfluid\n",
            "sometimes\n",
            "Woman-identified\n",
            "Contextual\n",
            "Non binary\n",
            "Genderqueer demigirl\n",
            "Genderqueer/non-binary\n",
            "nonbinary\n",
            "Female-ish\n",
            "\\-\n",
            "trans woman\n",
            "Transfeminine\n",
            "None\n",
            "Ostensibly Male\n",
            "MALE\n",
            "Male (or female, or both)\n",
            "Trans man\n",
            "transgender\n",
            "non binary\n",
            "Female/gender non-binary.\n",
            "genderfluid\n",
            "Demiguy\n",
            "none\n",
            "Trans female\n",
            "She/her/they/them\n",
            "SWM\n",
            "NB\n",
            "Nonbinary/femme\n",
            "gender non-conforming woman\n",
            "Masculine\n",
            "Cishet male\n",
            "Female-identified\n",
            "agender\n",
            "Questioning\n",
            "I have a penis\n",
            "rr\n",
            "Agender trans woman\n",
            "femmina\n",
            "43\n",
            "masculino\n",
            "I am a Wookie\n",
            "Trans non-binary/genderfluid\n",
            "Non-binary and gender fluid\n",
            "\n",
            "Formatos da pergunta 'Does your employer provide mental health benefits as part of healthcare coverage?':\n",
            "Yes\n",
            "Don't know\n",
            "No\n",
            "Not eligible for coverage / NA\n",
            "I don't know\n",
            "\n",
            "Formatos da pergunta 'Do you currently have a mental health disorder?':\n",
            "No\n",
            "Yes\n",
            "Maybe\n",
            "Possibly\n",
            "Don't Know\n",
            "\n",
            "Formatos da pergunta 'Do you work remotely?':\n",
            "Sometimes\n",
            "Never\n",
            "Always\n",
            "\n",
            "Formatos da pergunta 'What is your race?':\n",
            "White\n",
            "More than one of the above\n",
            "Asian\n",
            "Black or African American\n",
            "I prefer not to answer\n",
            "American Indian or Alaska Native\n",
            "Hispanic\n",
            "White Hispanic\n",
            "European American\n",
            "Caucasian\n"
          ]
        }
      ]
    },
    {
      "cell_type": "markdown",
      "source": [
        "Pronto, agora que tenho todas essas informações irei começar a criar plotagem gráficas, para a construção das análises"
      ],
      "metadata": {
        "id": "zWx4Y8SIyXCK"
      }
    },
    {
      "cell_type": "markdown",
      "source": [
        "**Gráfico de pizza, mostrando a porcentagem de pessoas que possuem uma transtorno mental**"
      ],
      "metadata": {
        "id": "SJSfy0V7yp2C"
      }
    },
    {
      "cell_type": "code",
      "source": [
        "# Filtrar o DataFrame para obter apenas as respostas da pergunta desejada\n",
        "df_mental_disorder = df[df['Pergunta'] == 'Do you currently have a mental health disorder?']\n",
        "\n",
        "# Contar a frequência de cada resposta\n",
        "count_by_answer = df_mental_disorder['Resposta'].value_counts()\n",
        "\n",
        "# Preparar os dados para o gráfico de pizza\n",
        "labels = ['Não', 'Sim', 'Talvez', 'Possivelmente', 'Não sei']\n",
        "sizes = count_by_answer.values\n",
        "\n",
        "# Definir cores para as fatias do gráfico de pizza\n",
        "colors = ['lightblue', 'lightgreen', 'orange', 'pink', 'gray']\n",
        "\n",
        "# Criar o gráfico de pizza\n",
        "plt.pie(sizes, labels=labels, colors=colors, autopct='%1.1f%%', startangle=90)\n",
        "\n",
        "# Adicionar título ao gráfico\n",
        "plt.title('Possui algum transtorno de saúde mental atualmente?')\n",
        "\n",
        "# Exibir o gráfico\n",
        "plt.axis('equal')\n",
        "plt.show()"
      ],
      "metadata": {
        "colab": {
          "base_uri": "https://localhost:8080/",
          "height": 429
        },
        "id": "mCulvC8_y2e_",
        "outputId": "055cf61f-0acc-4845-a994-c34fd3efc6dc"
      },
      "execution_count": null,
      "outputs": [
        {
          "output_type": "display_data",
          "data": {
            "text/plain": [
              "<Figure size 640x480 with 1 Axes>"
            ],
            "image/png": "[encoded data removed]"
          },
          "metadata": {}
        }
      ]
    }
  ]
}