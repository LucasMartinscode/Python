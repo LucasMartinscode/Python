{
  "cells": [
    {
      "cell_type": "markdown",
      "metadata": {
        "id": "view-in-github",
        "colab_type": "text"
      },
      "source": [
        "<a href=\"https://colab.research.google.com/github/LucasMartinscode/Python/blob/main/Atividade_aula_04.ipynb\" target=\"_parent\"><img src=\"https://colab.research.google.com/assets/colab-badge.svg\" alt=\"Open In Colab\"/></a>"
      ]
    },
    {
      "cell_type": "markdown",
      "source": [
        "# Nova seção"
      ],
      "metadata": {
        "id": "VvfkXODVKh3e"
      }
    },
    {
      "cell_type": "code",
      "source": [
        "#Importando as bibliotecas\n",
        "\n",
        "import numpy as np\n",
        "import pandas as pd\n",
        "import matplotlib.pyplot as plt"
      ],
      "metadata": {
        "id": "2hOgf1M-LItq"
      },
      "execution_count": 1,
      "outputs": []
    },
    {
      "cell_type": "code",
      "source": [
        "# Criando um algaritimo que lista toda a sequência de de Fibonacci até o número 100;\n",
        "\n",
        "\n",
        "Fibo = [0, 1, 1, 2, 3, 5, 8, 13, 21, 34, 55, 89]\n",
        "Fibo\n"
      ],
      "metadata": {
        "id": "4MxZkHlmLLcI",
        "outputId": "49189b1d-12b8-4d44-b905-74d680b3e195",
        "colab": {
          "base_uri": "https://localhost:8080/"
        }
      },
      "execution_count": 2,
      "outputs": [
        {
          "output_type": "execute_result",
          "data": {
            "text/plain": [
              "[0, 1, 1, 2, 3, 5, 8, 13, 21, 34, 55, 89]"
            ]
          },
          "metadata": {},
          "execution_count": 2
        }
      ]
    },
    {
      "cell_type": "code",
      "source": [
        "# Criando algaritimo que cria a fatoração de 1024\n",
        "\n",
        "numero = 1024\n",
        "fatores = []\n",
        "while numero % 2 == 0:\n",
        "    fatores.append(2)\n",
        "    numero //= 2\n",
        "fatores_array = np.array(fatores)\n",
        "\n",
        "print(fatores_array)"
      ],
      "metadata": {
        "id": "Tdk5BzYzLPJy",
        "outputId": "f2bd3998-7656-464b-f351-c85c7dad6701",
        "colab": {
          "base_uri": "https://localhost:8080/"
        }
      },
      "execution_count": 3,
      "outputs": [
        {
          "output_type": "stream",
          "name": "stdout",
          "text": [
            "[2 2 2 2 2 2 2 2 2 2]\n"
          ]
        }
      ]
    },
    {
      "cell_type": "markdown",
      "source": [],
      "metadata": {
        "id": "MW69kYP_LOw7"
      }
    },
    {
      "cell_type": "code",
      "source": [
        "#Criando um dicionario de frutas\n",
        "\n",
        "frutas = ['bananas', 'maçãs', 'peras', 'uvas', 'laranjas']\n",
        "\n",
        "while True:\n",
        "    entrada = input(\"Informe uma fruta (ou digite 999 para encerrar): \").lower()\n",
        "    if entrada == '999':\n",
        "        print(\"Encerrando o programa.\")\n",
        "        break\n",
        "    if entrada in frutas:\n",
        "        print(f\"{entrada.capitalize()} já está na lista.\")\n",
        "    else:\n",
        "        frutas.append(entrada)\n",
        "        print(f\"{entrada.capitalize()} foi adicionada à lista.\")\n",
        "    print(\"Lista de frutas atualizada:\", frutas)"
      ],
      "metadata": {
        "id": "cCF-wJ2XLR_R",
        "outputId": "42b8f457-bf3d-4e6b-9ec8-60da139cc548",
        "colab": {
          "base_uri": "https://localhost:8080/"
        }
      },
      "execution_count": 5,
      "outputs": [
        {
          "output_type": "stream",
          "name": "stdout",
          "text": [
            "Informe uma fruta (ou digite 999 para encerrar): 999\n",
            "Encerrando o programa.\n"
          ]
        }
      ]
    }
  ],
  "metadata": {
    "colab": {
      "name": "Olá, este é o Colaboratory",
      "provenance": [],
      "include_colab_link": true
    },
    "kernelspec": {
      "display_name": "Python 3",
      "name": "python3"
    }
  },
  "nbformat": 4,
  "nbformat_minor": 0
}